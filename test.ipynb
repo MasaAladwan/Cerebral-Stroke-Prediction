{
 "cells": [
  {
   "cell_type": "code",
   "execution_count": 2,
   "metadata": {},
   "outputs": [
    {
     "name": "stdout",
     "output_type": "stream",
     "text": [
      "          id  gender   age  hypertension  heart_disease ever_married  \\\n",
      "0      30669    Male   3.0             0              0           No   \n",
      "1      30468    Male  58.0             1              0          Yes   \n",
      "2      16523  Female   8.0             0              0           No   \n",
      "3      56543  Female  70.0             0              0          Yes   \n",
      "4      46136    Male  14.0             0              0           No   \n",
      "...      ...     ...   ...           ...            ...          ...   \n",
      "43395  56196  Female  10.0             0              0           No   \n",
      "43396   5450  Female  56.0             0              0          Yes   \n",
      "43397  28375  Female  82.0             1              0          Yes   \n",
      "43398  27973    Male  40.0             0              0          Yes   \n",
      "43399  36271  Female  82.0             0              0          Yes   \n",
      "\n",
      "          work_type Residence_type  avg_glucose_level   bmi   smoking_status  \\\n",
      "0          children          Rural              95.12  18.0              NaN   \n",
      "1           Private          Urban              87.96  39.2     never smoked   \n",
      "2           Private          Urban             110.89  17.6              NaN   \n",
      "3           Private          Rural              69.04  35.9  formerly smoked   \n",
      "4      Never_worked          Rural             161.28  19.1              NaN   \n",
      "...             ...            ...                ...   ...              ...   \n",
      "43395      children          Urban              58.64  20.4     never smoked   \n",
      "43396      Govt_job          Urban             213.61  55.4  formerly smoked   \n",
      "43397       Private          Urban              91.94  28.9  formerly smoked   \n",
      "43398       Private          Urban              99.16  33.2     never smoked   \n",
      "43399       Private          Urban              79.48  20.6     never smoked   \n",
      "\n",
      "       stroke  \n",
      "0           0  \n",
      "1           0  \n",
      "2           0  \n",
      "3           0  \n",
      "4           0  \n",
      "...       ...  \n",
      "43395       0  \n",
      "43396       0  \n",
      "43397       0  \n",
      "43398       0  \n",
      "43399       0  \n",
      "\n",
      "[43400 rows x 12 columns]\n"
     ]
    }
   ],
   "source": [
    "import pandas as pd\n",
    "import matplotlib.pyplot as plt\n",
    "import seaborn as sns\n",
    "\n",
    "# Load the dataset\n",
    "# Assuming the dataset is in a CSV file called 'heart_disease.csv'\n",
    "data = pd.read_csv('dataset.csv')\n",
    "print(data)\n"
   ]
  },
  {
   "cell_type": "code",
   "execution_count": null,
   "metadata": {},
   "outputs": [],
   "source": []
  }
 ],
 "metadata": {
  "kernelspec": {
   "display_name": "Python 3",
   "language": "python",
   "name": "python3"
  },
  "language_info": {
   "codemirror_mode": {
    "name": "ipython",
    "version": 3
   },
   "file_extension": ".py",
   "mimetype": "text/x-python",
   "name": "python",
   "nbconvert_exporter": "python",
   "pygments_lexer": "ipython3",
   "version": "3.11.4"
  }
 },
 "nbformat": 4,
 "nbformat_minor": 2
}
